{
 "cells": [
  {
   "cell_type": "markdown",
   "metadata": {},
   "source": []
  },
  {
   "cell_type": "markdown",
   "metadata": {},
   "source": []
  },
  {
   "cell_type": "code",
   "execution_count": 203,
   "metadata": {},
   "outputs": [],
   "source": [
    "from src.utils.json_utils import load_tools_from_json, save_tools_to_json\n",
    "from src.utils.epmc_utils import search_europe_pmc\n",
    "from src.utils.tool_utils import update_publication_with_match\n",
    "\n",
    "import requests"
   ]
  },
  {
   "cell_type": "markdown",
   "metadata": {},
   "source": [
    "# Get tools from bio.tools"
   ]
  },
  {
   "cell_type": "code",
   "execution_count": 212,
   "metadata": {},
   "outputs": [
    {
     "name": "stdout",
     "output_type": "stream",
     "text": [
      "Got 40 tools from bio.tools\n"
     ]
    }
   ],
   "source": [
    "base_url = \"https://bio.tools/api/tool/?topic=%22proteomics%22&format=json&page=\"\n",
    "page = 1\n",
    "tools = []\n",
    "\n",
    "while(page < 5):\n",
    "    response = requests.get(base_url + str(page))\n",
    "\n",
    "    if response.status_code == 200:\n",
    "        result = response.json()['list']\n",
    "        tools.extend(result)\n",
    "        page += 1\n",
    "    else:\n",
    "        break\n",
    "\n",
    "print(\"Got {} tools from bio.tools\".format(len(tools)))"
   ]
  },
  {
   "cell_type": "markdown",
   "metadata": {},
   "source": [
    "## Separate tools into no DOI, no publication, and with publication"
   ]
  },
  {
   "cell_type": "code",
   "execution_count": 213,
   "metadata": {},
   "outputs": [
    {
     "name": "stdout",
     "output_type": "stream",
     "text": [
      "Got 5 tools without DOI\n",
      "Got 4 tools without publication\n"
     ]
    }
   ],
   "source": [
    "tools_no_doi, tools_no_publication = [], []\n",
    "\n",
    "for tool in tools:\n",
    "    if tool['publication']:\n",
    "        if tool['publication'][0]['doi'] is None:\n",
    "            tools_no_doi.append(tool)\n",
    "\n",
    "    else:\n",
    "        tools_no_publication.append(tool)\n",
    "\n",
    "if tools_no_doi:\n",
    "    print(\"Got {} tools without DOI\".format(len(tools_no_doi)))\n",
    "\n",
    "print(\"Got {} tools without publication\".format(len(tools_no_publication)))\n",
    "\n",
    "tools_subset = [item for item in tools if item not in tools_no_publication]"
   ]
  },
  {
   "cell_type": "code",
   "execution_count": 208,
   "metadata": {},
   "outputs": [
    {
     "name": "stdout",
     "output_type": "stream",
     "text": [
      "Got 9 tools without PMID\n",
      "Got 20 tools without PMCID\n"
     ]
    }
   ],
   "source": [
    "tools_no_id = [tool for tool in tools_subset if tool['publication'][0]['pmid'] is None]\n",
    "tools_no_pmcid = [tool for tool in tools_subset if tool['publication'][0]['pmcid'] is None]\n",
    "\n",
    "print(\"Got {} tools without PMID\".format(len(tools_no_id)))\n",
    "print(\"Got {} tools without PMCID\".format(len(tools_no_pmcid)))"
   ]
  },
  {
   "cell_type": "markdown",
   "metadata": {},
   "source": [
    "For tools with doi - query EuropePMC and update publication fields "
   ]
  },
  {
   "cell_type": "code",
   "execution_count": 197,
   "metadata": {},
   "outputs": [
    {
     "name": "stdout",
     "output_type": "stream",
     "text": [
      "{'doi': '10.1002/pmic.200401244', 'pmid': None, 'pmcid': None}\n",
      "{'doi': '10.1002/pmic.200401244', 'pmid': '15880814', 'pmcid': None}\n",
      "msight\n",
      "{'doi': '10.1021/ACS.JPROTEOME.9B00330', 'pmid': '31378069', 'pmcid': 'PMC6733628'}\n",
      "{'doi': '10.1021/acs.jproteome.9b00330', 'pmid': '31378069', 'pmcid': 'PMC6733628'}\n",
      "MetaMorpheus\n",
      "{'doi': '10.1093/bioinformatics/btw548', 'pmid': None, 'pmcid': None}\n",
      "{'doi': '10.1093/bioinformatics/btw548', 'pmid': '27542771', 'pmcid': None}\n",
      "MSIdV\n",
      "{'doi': '10.1093/bioinformatics/btn603', 'pmid': None, 'pmcid': None}\n",
      "{'doi': '10.1093/bioinformatics/btn603', 'pmid': '19015140', 'pmcid': 'PMC2639009'}\n",
      "sirius\n",
      "{'doi': '10.1021/jasms.4c00178', 'pmid': None, 'pmcid': None}\n",
      "{'doi': '10.1021/jasms.4c00178', 'pmid': '39221961', 'pmcid': None}\n",
      "msigen\n",
      "{'doi': '10.1021/JASMS.1C00013', 'pmid': '33822609', 'pmcid': 'PMC8102432'}\n",
      "{'doi': '10.1021/jasms.1c00013', 'pmid': '33822609', 'pmcid': 'PMC8102432'}\n",
      "macroms\n",
      "Updated 6 tools with publication information.\n"
     ]
    }
   ],
   "source": [
    "updated_tools =  []\n",
    "\n",
    "for tool in tools_subset:\n",
    "    if tool['publication'][0]['doi'] is None:\n",
    "        continue\n",
    "\n",
    "    doi = tool['publication'][0]['doi']\n",
    "    response = search_europe_pmc(doi)\n",
    "\n",
    "    if response and response.get('hitCount', 0) > 0:\n",
    "        match = response['resultList']['result'][0]\n",
    "        \n",
    "        original_publication = {\n",
    "            'doi': tool['publication'][0].get('doi'),\n",
    "            'pmid': tool['publication'][0].get('pmid'),\n",
    "            'pmcid': tool['publication'][0].get('pmcid')\n",
    "        }\n",
    "        updated_publication = update_publication_with_match(match)\n",
    "        \n",
    "        if updated_publication and updated_publication != original_publication:\n",
    "            if 'pmid' not in updated_publication:\n",
    "                updated_publication['pmid'] = None\n",
    "            if 'pmcid' not in updated_publication:\n",
    "                updated_publication['pmcid'] = None\n",
    "            \n",
    "            tool['publication'][0] = updated_publication\n",
    "            updated_tools.append(tool)\n",
    "\n",
    "\n",
    "print(f\"Updated {len(updated_tools)} tools with publication information.\")\n",
    "\n",
    "save_tools_to_json(updated_tools, \"updated_tools.json\")\n",
    "\n"
   ]
  },
  {
   "cell_type": "code",
   "execution_count": 200,
   "metadata": {},
   "outputs": [
    {
     "name": "stdout",
     "output_type": "stream",
     "text": [
      "Got 0 tools without PMID\n",
      "Got 5 tools without PMCID\n"
     ]
    }
   ],
   "source": [
    "tools_no_id = [tool for tool in tools2 if tool['publication'][0].get('pmid') is None]\n",
    "tools_no_pmcid = [tool for tool in tools2 if tool['publication'][0].get('pmcid') is None]\n",
    "\n",
    "print(\"Got {} tools without PMID\".format(len(tools_no_id)))\n",
    "print(\"Got {} tools without PMCID\".format(len(tools_no_pmcid)))"
   ]
  },
  {
   "cell_type": "markdown",
   "metadata": {},
   "source": [
    "# Tools without DOI"
   ]
  },
  {
   "cell_type": "code",
   "execution_count": 214,
   "metadata": {},
   "outputs": [
    {
     "name": "stdout",
     "output_type": "stream",
     "text": [
      "MZmine\n",
      "[{'doi': None, 'pmid': '16026613', 'pmcid': None, 'type': [], 'version': None, 'note': None, 'metadata': {'title': 'Processing methods for differential analysis of LC/MS profile data', 'abstract': 'Background: Liquid chromatography coupled to mass spectrometry (LC/MS) has been widely used in proteomics and metabolomics research. In this context, the technology has been increasingly used for differential profiling, i.e. broad screening of biomolecular components across multiple samples in order to elucidate the observed phenotypes and discover biomarkers. One of the major challenges in this domain remains development of better solutions for processing of LC/MS data. Results: We present a software package MZmine that enables differential LC/MS analysis of metabolomics data. This software is a toolbox containing methods for all data processing stages preceding differential analysis: spectral filtering, peak detection, alignment and normalization. Specifically, we developed and implemented a new recursive peak search algorithm and a secondary peak picking method for improving already aligned results, as well as a normalization tool that uses multiple internal standards. Visualization tools enable comparative viewing of data across multiple samples. Peak lists can be exported into other data analysis programs. The toolbox has already been utilized in a wide range of applications. We demonstrate its utility on an example of metabolic profiling of Catharanthus roseus cell cultures. Conclusion: The software is freely available under the GNU General Public License and it can be obtained from the project web page at: http://mzmine.sourceforge.net/. © 2005 Katajamaa and Orešič; licensee BioMed Central Ltd.', 'date': '2005-07-18T00:00:00Z', 'citationCount': 303, 'authors': [{'name': 'Katajamaa M.'}, {'name': 'Oresic M.'}], 'journal': 'BMC Bioinformatics'}}]\n",
      "{'doi': '10.1186/1471-2105-6-179', 'pmid': '16026613', 'pmcid': 'PMC1187873'}\n",
      "esimsa\n",
      "[{'doi': None, 'pmid': '10861983', 'pmcid': None, 'type': [], 'version': None, 'note': None, 'metadata': {'title': 'Analysis of enzymatically digested proteins and protein mixtures using a 9.4 Tesla fourier transform ion cyclotron mass spectrometer', 'abstract': 'A commercially available 9.4 Tesla Fourier transform ion cyclotron resonance (FTICR) mass spectrometer was applied in the analysis of tryptic digests of protein mixtures without any separation. First, the method was demonstrated on a mixture of tryptic digests of equine cytochrome c, equine myoglobin and bovine serum albumin. The same method was then applied to human plasma from a healthy blood donor. Computer programs were employed to simplify analysis of the complex spectra. The 2745 peaks in the human plasma electrospray ionization FTICR spectrum could be reduced to 1165 isotopic clusters and 669 unique masses. Out of these, 82 masses matched tryptic fragments of serum albumin with mass measurement errors less than 10 ppm, covering 93% of the sequence. Another 16 masses were assigned to tryptic fragments of transferrin, covering 41% of the sequence on the 10 ppm mass measurement error level (14 within 2 ppm). The mass measurement errors were approximately normal distributed with a standard deviation of 1.7 ppm. This demonstrates the feasibility of combining the ultra-high mass resolving power and accuracy of FTICR mass spectrometry with automated computer analysis for investigating complex biological matrices. Copyright (C) 2000 John Wiley and Sons, Ltd.', 'date': '2000-01-01T00:00:00Z', 'citationCount': 33, 'authors': [{'name': 'Palmblad M.'}, {'name': 'Wetterhall M.'}, {'name': 'Markides K.'}, {'name': 'Hakansson P.'}, {'name': 'Bergquist J.'}], 'journal': 'Rapid Communications in Mass Spectrometry'}}]\n",
      "{'doi': '10.1016/j.heliyon.2024.e25316', 'pmid': '38352755', 'pmcid': 'PMC10861983'}\n",
      "AMASS\n",
      "[{'doi': None, 'pmid': '21800894', 'pmcid': None, 'type': [], 'version': None, 'note': None, 'metadata': {'title': 'AMASS: Algorithm for MSI analysis by semi-supervised segmentation', 'abstract': 'Mass Spectrometric Imaging (MSI) is a molecular imaging technique that allows the generation of 2D ion density maps for a large complement of the active molecules present in cells and sectioned tissues. Automatic segmentation of such maps according to patterns of co-expression of individual molecules can be used for discovery of novel molecular signatures (molecules that are specifically expressed in particular spatial regions). However, current segmentation techniques are biased toward the discovery of higher abundance molecules and large segments; they allow limited opportunity for user interaction, and validation is usually performed by similarity to known anatomical features. We describe here a novel method, AMASS (Algorithm for MSI Analysis by Semi-supervised Segmentation). AMASS relies on the discriminating power of a molecular signal instead of its intensity as a key feature, uses an internal consistency measure for validation, and allows significant user interaction and supervision as options. An automated segmentation of entire leech embryo data images resulted in segmentation domains congruent with many known organs, including heart, CNS ganglia, nephridia, nephridiopores, and lateral and ventral regions, each with a distinct molecular signature. Likewise, segmentation of a rat brain MSI slice data set yielded known brain features and provided interesting examples of co-expression between distinct brain regions. AMASS represents a new approach for the discovery of peptide masses with distinct spatial features of expression. Software source code and installation and usage guide are available at http://bix.ucsd.edu/AMASS/. © 2011 American Chemical Society.', 'date': '2011-10-07T00:00:00Z', 'citationCount': 22, 'authors': [{'name': 'Bruand J.'}, {'name': 'Alexandrov T.'}, {'name': 'Sistla S.'}, {'name': 'Wisztorski M.'}, {'name': 'Meriaux C.'}, {'name': 'Becker M.'}, {'name': 'Salzet M.'}, {'name': 'Fournier I.'}, {'name': 'MacAgno E.'}, {'name': 'Bafna V.'}], 'journal': 'Journal of Proteome Research'}}]\n",
      "{'doi': '10.1021/pr2005378', 'pmid': '21800894', 'pmcid': 'PMC3190602'}\n",
      "OpenChrom\n",
      "[{'doi': None, 'pmid': '20673335', 'pmcid': None, 'type': [], 'version': None, 'note': None, 'metadata': {'title': 'OpenChrom: A cross-platform open source software for the mass spectrometric analysis of chromatographic data', 'abstract': 'Background: Today, data evaluation has become a bottleneck in chromatographic science. Analytical instruments equipped with automated samplers yield large amounts of measurement data, which needs to be verified and analyzed. Since nearly every GC/MS instrument vendor offers its own data format and software tools, the consequences are problems with data exchange and a lack of comparability between the analytical results. To challenge this situation a number of either commercial or non-profit software applications have been developed. These applications provide functionalities to import and analyze several data formats but have shortcomings in terms of the transparency of the implemented analytical algorithms and/or are restricted to a specific computer platform.Results: This work describes a native approach to handle chromatographic data files. The approach can be extended in its functionality such as facilities to detect baselines, to detect, integrate and identify peaks and to compare mass spectra, as well as the ability to internationalize the application. Additionally, filters can be applied on the chromatographic data to enhance its quality, for example to remove background and noise. Extended operations like do, undo and redo are supported.Conclusions: OpenChrom is a software application to edit and analyze mass spectrometric chromatographic data. It is extensible in many different ways, depending on the demands of the users or the analytical procedures and algorithms. It offers a customizable graphical user interface. The software is independent of the operating system, due to the fact that the Rich Client Platform is written in Java. OpenChrom is released under the Eclipse Public License 1.0 (EPL). There are no license constraints regarding extensions. They can be published using open source as well as proprietary licenses. OpenChrom is available free of charge at http://www.openchrom.net. © 2010 Wenig and Odermatt; licensee BioMed Central Ltd.', 'date': '2010-07-30T00:00:00Z', 'citationCount': 87, 'authors': [{'name': 'Wenig P.'}, {'name': 'Odermatt J.'}], 'journal': 'BMC Bioinformatics'}}]\n",
      "{'doi': '10.1186/1471-2105-11-405', 'pmid': '20673335', 'pmcid': 'PMC2920884'}\n",
      "Expasy\n",
      "[{'doi': None, 'pmid': '12824418', 'pmcid': None, 'type': [], 'version': None, 'note': None, 'metadata': {'title': 'ExPASy: The proteomics server for in-depth protein knowledge and analysis', 'abstract': 'The ExPASy (the Expert Protein Analysis System) World Wide Web server (http://www.expasy.org), is provided as a service to the life science community by a multidisciplinary team at the Swiss Institute of Bioinformatics (SIB). It provides access to a variety of databases and analytical tools dedicated to proteins and proteomics. ExPASy databases include SWISS-PROT and TrEMBL, SWISS-2DPAGE, PROSITE, ENZYME and the SWISS-MODEL repository. Analysis tools are available for specific tasks relevant to proteomics, similarity searches, pattern and profile searches, post-translational modification prediction, topology prediction, primary, secondary and tertiary structure analysis and sequence alignment. These databases and tools are tightly interlinked: a special emphasis is placed on integration of database entries with related resources developed at the SIB and elsewhere, and the proteomics tools have been designed to read the annotations in SWISS-PROT in order to enhance their predictions. ExPASy started to operate in 1993, as the first WWW server in the field of life sciences. In addition to the main site in Switzerland, seven mirror sites in different continents currently serve the user community.', 'date': '2003-07-01T00:00:00Z', 'citationCount': 3943, 'authors': [{'name': 'Gasteiger E.'}, {'name': 'Gattiker A.'}, {'name': 'Hoogland C.'}, {'name': 'Ivanyi I.'}, {'name': 'Appel R.D.'}, {'name': 'Bairoch A.'}], 'journal': 'Nucleic Acids Research'}}, {'doi': None, 'pmid': '22661580', 'pmcid': None, 'type': [], 'version': None, 'note': None, 'metadata': {'title': 'ExPASy: SIB bioinformatics resource portal', 'abstract': \"ExPASy (http://www.expasy.org) has worldwide reputation as one of the main bioinformatics resources for proteomics. It has now evolved, becoming an extensible and integrative portal accessing many scientific resources, databases and software tools in different areas of life sciences. Scientists can henceforth access seamlessly a wide range of resources in many different domains, such as proteomics, genomics, phylogeny/evolution, systems biology, population genetics, transcriptomics, etc. The individual resources (databases, web-based and downloadable software tools) are hosted in a 'decentralized' way by different groups of the SIB Swiss Institute of Bioinformatics and partner institutions. Specifically, a single web portal provides a common entry point to a wide range of resources developed and operated by different SIB groups and external institutions. The portal features a search function across 'selected' resources. Additionally, the availability and usage of resources are monitored. The portal is aimed for both expert users and people who are not familiar with a specific domain in life sciences. The new web interface provides, in particular, visual guidance for newcomers to ExPASy. © 2012 The Author(s).\", 'date': '2012-07-01T00:00:00Z', 'citationCount': 1633, 'authors': [{'name': 'Artimo P.'}, {'name': 'Jonnalagedda M.'}, {'name': 'Arnold K.'}, {'name': 'Baratin D.'}, {'name': 'Csardi G.'}, {'name': 'De Castro E.'}, {'name': 'Duvaud S.'}, {'name': 'Flegel V.'}, {'name': 'Fortier A.'}, {'name': 'Gasteiger E.'}, {'name': 'Grosdidier A.'}, {'name': 'Hernandez C.'}, {'name': 'Ioannidis V.'}, {'name': 'Kuznetsov D.'}, {'name': 'Liechti R.'}, {'name': 'Moretti S.'}, {'name': 'Mostaguir K.'}, {'name': 'Redaschi N.'}, {'name': 'Rossier G.'}, {'name': 'Xenarios I.'}, {'name': 'Stockinger H.'}], 'journal': 'Nucleic Acids Research'}}, {'doi': None, 'pmid': '8073505', 'pmcid': None, 'type': [], 'version': None, 'note': None, 'metadata': {'title': 'A new generation of information retrieval tools for biologists: the example of the ExPASy WWW server', 'abstract': '', 'date': '1994-01-01T00:00:00Z', 'citationCount': 520, 'authors': [{'name': 'Appel R.D.'}, {'name': 'Bairoch A.'}, {'name': 'Hochstrasser D.F.'}], 'journal': 'Trends in Biochemical Sciences'}}, {'doi': None, 'pmid': '33849055', 'pmcid': None, 'type': ['Primary'], 'version': None, 'note': None, 'metadata': {'title': 'Expasy, the Swiss Bioinformatics Resource Portal, as designed by its users', 'abstract': \"The SIB Swiss Institute of Bioinformatics (https://www.sib.swiss) creates, maintains and disseminates a portfolio of reliable and state-of-the-art bioinformatics services and resources for the storage, analysis and interpretation of biological data. Through Expasy (https://www.expasy.org), the Swiss Bioinformatics Resource Portal, the scientific community worldwide, freely accesses more than 160 SIB resources supporting a wide range of life science and biomedical research areas. In 2020, Expasy was redesigned through a user-centric approach, known as User-Centred Design (UCD), whose aim is to create user interfaces that are easy-to-use, efficient and targeting the intended community. This approach, widely used in other fields such as marketing, e-commerce, and design of mobile applications, is still scarcely explored in bioinformatics. In total, around 50 people were actively involved, including internal stakeholders and end-users. In addition to an optimised interface that meets users' needs and expectations, the new version of Expasy provides an up-to-date and accurate description of high-quality resources based on a standardised ontology, allowing to connect functionally-related resources.\", 'date': '2021-07-02T00:00:00Z', 'citationCount': 348, 'authors': [{'name': 'Duvaud S.'}, {'name': 'Gabella C.'}, {'name': 'Lisacek F.'}, {'name': 'Stockinger H.'}, {'name': 'Ioannidis V.'}, {'name': 'Durinx C.'}], 'journal': 'Nucleic Acids Research'}}]\n",
      "{'doi': '10.1093/nar/gkg563', 'pmid': '12824418', 'pmcid': 'PMC168970'}\n",
      "Updated 5 tools with publication information.\n"
     ]
    }
   ],
   "source": [
    "updated_tools_doi = []\n",
    "\n",
    "for tool in tools_no_doi:\n",
    "    if tool['publication'][0]['pmid'] is not None:\n",
    "        response = search_europe_pmc(tool['publication'][0]['pmid'])\n",
    "\n",
    "        if response and response.get('hitCount', 0) > 0:\n",
    "            match = response['resultList']['result'][0]\n",
    "        \n",
    "            original_publication = {\n",
    "              'doi': tool['publication'][0].get('doi'),\n",
    "              'pmid': tool['publication'][0].get('pmid'),\n",
    "              'pmcid': tool['publication'][0].get('pmcid')\n",
    "            }\n",
    "            updated_publication = update_publication_with_match(match)\n",
    "\n",
    "            if updated_publication and updated_publication != original_publication:\n",
    "                if 'doi' not in updated_publication:\n",
    "                    updated_publication['doi'] = None\n",
    "                if 'pmid' not in updated_publication:\n",
    "                    updated_publication['pmid'] = None\n",
    "                if 'pmcid' not in updated_publication:\n",
    "                    updated_publication['pmcid'] = None\n",
    "\n",
    "                tool['publication'][0] = updated_publication\n",
    "                updated_tools_doi.append(tool)\n",
    "\n",
    "print(f\"Updated {len(updated_tools_doi)} tools with publication information.\")\n",
    "\n",
    "# Replace original publication instead of the updated publication, replacing only the fields to keep all the other metadata"
   ]
  }
 ],
 "metadata": {
  "kernelspec": {
   "display_name": "biohackathon",
   "language": "python",
   "name": "python3"
  },
  "language_info": {
   "codemirror_mode": {
    "name": "ipython",
    "version": 3
   },
   "file_extension": ".py",
   "mimetype": "text/x-python",
   "name": "python",
   "nbconvert_exporter": "python",
   "pygments_lexer": "ipython3",
   "version": "3.12.3"
  }
 },
 "nbformat": 4,
 "nbformat_minor": 2
}
