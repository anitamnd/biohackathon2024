{
 "cells": [
  {
   "cell_type": "code",
   "execution_count": 203,
   "metadata": {},
   "outputs": [],
   "source": [
    "import requests\n",
    "from src.utils.epmc_utils import search_europe_pmc"
   ]
  },
  {
   "cell_type": "markdown",
   "metadata": {},
   "source": [
    "# Get tools from bio.tools\n",
    "\n",
    "* This example only requests 40 proteomics tools"
   ]
  },
  {
   "cell_type": "code",
   "execution_count": null,
   "metadata": {},
   "outputs": [],
   "source": [
    "base_url = \"https://bio.tools/api/tool/?topic=%22proteomics%22&format=json&page=\"\n",
    "page = 1\n",
    "tools = []\n",
    "\n",
    "while(page < 5):\n",
    "    response = requests.get(base_url + str(page))\n",
    "\n",
    "    if response.status_code == 200:\n",
    "        result = response.json()['list']\n",
    "        tools.extend(result)\n",
    "        page += 1\n",
    "    else:\n",
    "        break\n",
    "\n",
    "print(\"Got {} tools from bio.tools\".format(len(tools)))"
   ]
  },
  {
   "cell_type": "markdown",
   "metadata": {},
   "source": [
    "# Separate tools\n",
    "\n",
    "According to publication details in the json, tools are separated into:\n",
    "\n",
    "* tools without publication details (tools_no_publication)\n",
    "* tools with publication but no DOI (tools_no_doi)\n",
    "* tools with publication with DOI (tools_subset)"
   ]
  },
  {
   "cell_type": "code",
   "execution_count": null,
   "metadata": {},
   "outputs": [],
   "source": [
    "tools_no_doi, tools_no_publication = [], []\n",
    "\n",
    "for tool in tools:\n",
    "    if tool['publication']:\n",
    "        if tool['publication'][0]['doi'] is None:\n",
    "            tools_no_doi.append(tool)\n",
    "\n",
    "    else:\n",
    "        tools_no_publication.append(tool)\n",
    "\n",
    "\n",
    "print(\"Got {} tools without DOI\".format(len(tools_no_doi)))\n",
    "print(\"Got {} tools without publication\".format(len(tools_no_publication)))\n",
    "\n",
    "tools_subset = [item for item in tools if item not in tools_no_publication]"
   ]
  },
  {
   "cell_type": "markdown",
   "metadata": {},
   "source": [
    "Check how many don't have PMID and PMCID"
   ]
  },
  {
   "cell_type": "code",
   "execution_count": null,
   "metadata": {},
   "outputs": [],
   "source": [
    "tools_no_id = [tool for tool in tools_subset if tool['publication'][0]['pmid'] is None]\n",
    "tools_no_pmcid = [tool for tool in tools_subset if tool['publication'][0]['pmcid'] is None]\n",
    "\n",
    "print(\"Got {} tools without PMID\".format(len(tools_no_id)))\n",
    "print(\"Got {} tools without PMCID\".format(len(tools_no_pmcid)))"
   ]
  },
  {
   "cell_type": "markdown",
   "metadata": {},
   "source": [
    "# Tools with Publication and DOI\n",
    "\n",
    "For tools with publication - query EuropePMC and update publication fields "
   ]
  },
  {
   "cell_type": "code",
   "execution_count": null,
   "metadata": {},
   "outputs": [],
   "source": [
    "updated_tools =  []\n",
    "\n",
    "for tool in tools_subset:\n",
    "    \n",
    "    # Query Europe PMC with DOI or PMID if DOI is not available\n",
    "    query = tool['publication'][0].get('doi') or tool['publication'][0].get('pmid')\n",
    "\n",
    "    response = search_europe_pmc(query)\n",
    "\n",
    "    \n",
    "    if response and response.get('hitCount', 0) > 0:\n",
    "        match = response['resultList']['result'][0] \n",
    "        \n",
    "        original_publication = {\n",
    "            'doi': tool['publication'][0].get('doi'),\n",
    "            'pmid': tool['publication'][0].get('pmid'),\n",
    "            'pmcid': tool['publication'][0].get('pmcid')\n",
    "        }\n",
    "\n",
    "        updated_publication = get_publication_from_match(match)\n",
    "        \n",
    "        if updated_publication and updated_publication != original_publication:\n",
    "            # Assuming Europe PMC has the most up-to-date information\n",
    "            if 'doi' not in updated_publication:\n",
    "                    updated_publication['doi'] = None\n",
    "            if 'pmid' not in updated_publication:\n",
    "                updated_publication['pmid'] = None\n",
    "            if 'pmcid' not in updated_publication:\n",
    "                updated_publication['pmcid'] = None\n",
    "            \n",
    "            tool['publication'][0] = updated_publication\n",
    "            updated_tools.append(tool)\n",
    "\n",
    "\n",
    "print(f\"Updated {len(updated_tools)} tools with publication information.\")\n",
    "\n",
    "save_tools_to_json(updated_tools, \"updated_tools.json\")\n",
    "\n"
   ]
  },
  {
   "cell_type": "code",
   "execution_count": null,
   "metadata": {},
   "outputs": [],
   "source": [
    "tools_no_id = [tool for tool in tools2 if tool['publication'][0].get('pmid') is None]\n",
    "tools_no_pmcid = [tool for tool in tools2 if tool['publication'][0].get('pmcid') is None]\n",
    "\n",
    "print(\"Got {} tools without PMID\".format(len(tools_no_id)))\n",
    "print(\"Got {} tools without PMCID\".format(len(tools_no_pmcid)))"
   ]
  },
  {
   "cell_type": "markdown",
   "metadata": {},
   "source": [
    "# Tools without DOI"
   ]
  },
  {
   "cell_type": "code",
   "execution_count": null,
   "metadata": {},
   "outputs": [],
   "source": [
    "updated_tools_doi = []\n",
    "\n",
    "for tool in tools_no_doi:\n",
    "    if tool['publication'][0]['pmid'] is not None:\n",
    "        response = search_europe_pmc(tool['publication'][0]['pmid'])\n",
    "\n",
    "        if response and response.get('hitCount', 0) > 0:\n",
    "            match = response['resultList']['result'][0]\n",
    "        \n",
    "            original_publication = {\n",
    "              'doi': tool['publication'][0].get('doi'),\n",
    "              'pmid': tool['publication'][0].get('pmid'),\n",
    "              'pmcid': tool['publication'][0].get('pmcid')\n",
    "            }\n",
    "            updated_publication = update_publication_with_match(match)\n",
    "\n",
    "            if updated_publication and updated_publication != original_publication:\n",
    "                if 'doi' not in updated_publication:\n",
    "                    updated_publication['doi'] = None\n",
    "                if 'pmid' not in updated_publication:\n",
    "                    updated_publication['pmid'] = None\n",
    "                if 'pmcid' not in updated_publication:\n",
    "                    updated_publication['pmcid'] = None\n",
    "\n",
    "                tool['publication'][0] = updated_publication\n",
    "                updated_tools_doi.append(tool)\n",
    "\n",
    "print(f\"Updated {len(updated_tools_doi)} tools with publication information.\")\n",
    "\n",
    "# Replace original publication instead of the updated publication, replacing only the fields to keep all the other metadata"
   ]
  }
 ],
 "metadata": {
  "kernelspec": {
   "display_name": "biohackathon",
   "language": "python",
   "name": "python3"
  },
  "language_info": {
   "codemirror_mode": {
    "name": "ipython",
    "version": 3
   },
   "file_extension": ".py",
   "mimetype": "text/x-python",
   "name": "python",
   "nbconvert_exporter": "python",
   "pygments_lexer": "ipython3",
   "version": "3.12.3"
  }
 },
 "nbformat": 4,
 "nbformat_minor": 2
}
